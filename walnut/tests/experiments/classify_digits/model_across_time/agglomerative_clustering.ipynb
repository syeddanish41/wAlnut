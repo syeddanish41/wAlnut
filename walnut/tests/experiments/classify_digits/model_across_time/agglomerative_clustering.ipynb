{
 "cells": [
  {
   "cell_type": "code",
   "execution_count": 1,
   "metadata": {
    "collapsed": true
   },
   "outputs": [],
   "source": [
    "# needed imports\n",
    "from matplotlib import pyplot as plt\n",
    "from scipy.cluster.hierarchy import dendrogram, linkage\n",
    "import numpy as np\n",
    "\n",
    "%matplotlib inline"
   ]
  },
  {
   "cell_type": "code",
   "execution_count": 83,
   "metadata": {
    "collapsed": false
   },
   "outputs": [
    {
     "name": "stdout",
     "output_type": "stream",
     "text": [
      "actual transition matrix = \n",
      "[[   0.         1.16667    6.      ...,  999.       999.       999.     ]\n",
      " [   1.16667    0.       999.      ...,  999.       999.       999.     ]\n",
      " [   6.       999.         0.      ...,  999.       999.       999.     ]\n",
      " ..., \n",
      " [ 999.       999.       999.      ...,    0.       999.       999.     ]\n",
      " [ 999.       999.       999.      ...,  999.         0.       999.     ]\n",
      " [ 999.       999.       999.      ...,  999.       999.         0.     ]]\n",
      "--------------------------------------------------------------------------------\n",
      "processed distance matrix = \n",
      "[[   0.         1.16667    6.      ...,  999.       999.       999.     ]\n",
      " [   1.16667    0.       999.      ...,  999.       999.       999.     ]\n",
      " [   6.       999.         0.      ...,  999.       999.       999.     ]\n",
      " ..., \n",
      " [ 999.       999.       999.      ...,    0.       999.       999.     ]\n",
      " [ 999.       999.       999.      ...,  999.         0.       999.     ]\n",
      " [ 999.       999.       999.      ...,  999.       999.         0.     ]]\n",
      "--------------------------------------------------------------------------------\n",
      "distance array is =  [   1.16667    6.       999.      ...,  999.       999.       999.     ]\n"
     ]
    },
    {
     "name": "stderr",
     "output_type": "stream",
     "text": [
      "/home/alibaba/anaconda2/lib/python2.7/site-packages/ipykernel/__main__.py:7: RuntimeWarning: divide by zero encountered in reciprocal\n"
     ]
    }
   ],
   "source": [
    "import numpy as np\n",
    "import json\n",
    "# transition matrix for 100 patterns\n",
    "with open('markov_3_3.json', 'r') as f:\n",
    "    A =np.array(json.load(f))\n",
    "print \"actual transition matrix = \\n\",data\n",
    "# making a symmetric matrix\n",
    "data=np.maximum( A, A.transpose() )\n",
    "# inverting each element for considering distance\n",
    "data=np.reciprocal(data)\n",
    "# clipping infinite distance\n",
    "np.clip(data,0,999,out=data)\n",
    "# filling diagonals with 0\n",
    "np.fill_diagonal(data,0)\n",
    "print \"--------------------------------------------------------------------------------\"\n",
    "print \"processed distance matrix = \\n\",data\n",
    "import scipy.spatial.distance as ssd\n",
    "# convert the redundant n*n square matrix form into a condensed nC2 array\n",
    "distArray = ssd.squareform(data) # distArray[{n choose 2}-{n-i choose 2} + (j-i-1)] is the distance between points i and j\n",
    "print \"--------------------------------------------------------------------------------\"\n",
    "print \"distance array is = \",distArray"
   ]
  },
  {
   "cell_type": "code",
   "execution_count": 84,
   "metadata": {
    "collapsed": true
   },
   "outputs": [],
   "source": [
    "np.set_printoptions(precision=5, suppress=True)  # suppress scientific float notation"
   ]
  },
  {
   "cell_type": "code",
   "execution_count": 88,
   "metadata": {
    "collapsed": false
   },
   "outputs": [
    {
     "data": {
      "text/plain": [
       "(99, 4)"
      ]
     },
     "execution_count": 88,
     "metadata": {},
     "output_type": "execute_result"
    }
   ],
   "source": [
    "# generate the linkage matrix\n",
    "Z = linkage(distArray, 'ward')\n",
    "Z.shape"
   ]
  },
  {
   "cell_type": "code",
   "execution_count": 93,
   "metadata": {
    "collapsed": false
   },
   "outputs": [],
   "source": [
    "def fancy_dendrogram(*args, **kwargs):\n",
    "    max_d = kwargs.pop('max_d', None)\n",
    "    if max_d and 'color_threshold' not in kwargs:\n",
    "        kwargs['color_threshold'] = max_d\n",
    "    annotate_above = kwargs.pop('annotate_above', 0)\n",
    "\n",
    "    ddata = dendrogram(*args, **kwargs)\n",
    "\n",
    "    if not kwargs.get('no_plot', False):\n",
    "        plt.title('Hierarchical Clustering Dendrogram (truncated)')\n",
    "        plt.xlabel('sample index or (cluster size)')\n",
    "        plt.ylabel('distance')\n",
    "        for i, d, c in zip(ddata['icoord'], ddata['dcoord'], ddata['color_list']):\n",
    "            x = 0.5 * sum(i[1:3])\n",
    "            y = d[1]\n",
    "            if y > annotate_above:\n",
    "                plt.plot(x, y, 'o', c=c)\n",
    "                plt.annotate(\"%.3g\" % y, (x, y), xytext=(0, -5),\n",
    "                             textcoords='offset points',\n",
    "                             va='top', ha='center')\n",
    "        if max_d:\n",
    "            plt.axhline(y=max_d, c='k')\n",
    "    return ddata"
   ]
  },
  {
   "cell_type": "code",
   "execution_count": 98,
   "metadata": {
    "collapsed": true
   },
   "outputs": [],
   "source": [
    "# set cut-off to 50\n",
    "max_d = 100  # max_d as in max_distance"
   ]
  },
  {
   "cell_type": "code",
   "execution_count": 99,
   "metadata": {
    "collapsed": false
   },
   "outputs": [
    {
     "data": {
      "image/png": "[encoded data removed]",
      "text/plain": [
       "<matplotlib.figure.Figure at 0x7f367adf5610>"
      ]
     },
     "metadata": {},
     "output_type": "display_data"
    }
   ],
   "source": [
    "fancy_dendrogram(\n",
    "    Z,\n",
    "    truncate_mode='lastp',\n",
    "    p=10,\n",
    "    leaf_rotation=90.,\n",
    "    leaf_font_size=12.,\n",
    "    show_contracted=True,\n",
    "    annotate_above=10,\n",
    "    max_d=max_d,  # plot a horizontal cut-off line\n",
    ")\n",
    "plt.show()"
   ]
  },
  {
   "cell_type": "code",
   "execution_count": null,
   "metadata": {
    "collapsed": true
   },
   "outputs": [],
   "source": []
  }
 ],
 "metadata": {
  "kernelspec": {
   "display_name": "Python [default]",
   "language": "python",
   "name": "python2"
  },
  "language_info": {
   "codemirror_mode": {
    "name": "ipython",
    "version": 2
   },
   "file_extension": ".py",
   "mimetype": "text/x-python",
   "name": "python",
   "nbconvert_exporter": "python",
   "pygments_lexer": "ipython2",
   "version": "2.7.12"
  }
 },
 "nbformat": 4,
 "nbformat_minor": 0
}
